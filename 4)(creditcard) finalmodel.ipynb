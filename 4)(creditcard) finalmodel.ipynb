{
 "cells": [
  {
   "cell_type": "code",
   "execution_count": 1,
   "id": "b2625b4c-031c-46c4-8639-41149b521816",
   "metadata": {},
   "outputs": [],
   "source": [
    "import pickle"
   ]
  },
  {
   "cell_type": "code",
   "execution_count": 2,
   "id": "4cae12c6-2ecf-4736-a9dc-a8b35a43bbed",
   "metadata": {},
   "outputs": [
    {
     "name": "stdout",
     "output_type": "stream",
     "text": [
      "KNN model loaded successfully!\n"
     ]
    }
   ],
   "source": [
    " #Load the KNN model\n",
    "with open(\"knn_model.pkl\", 'rb') as file:\n",
    "    loaded_model = pickle.load(file)\n",
    "\n",
    "print(\"KNN model loaded successfully!\")\n",
    "\n",
    "# You can now use knn_model to make predictions\n"
   ]
  },
  {
   "cell_type": "code",
   "execution_count": 3,
   "id": "3647ca61-f503-46ad-98a0-39d2654976c0",
   "metadata": {},
   "outputs": [
    {
     "name": "stdout",
     "output_type": "stream",
     "text": [
      "New data:\n",
      "[[0.97700073 0.6564278  0.42221482 0.25770061 0.58572648 0.58678356]]\n"
     ]
    }
   ],
   "source": [
    "import numpy as np\n",
    "\n",
    "# Assuming your original dataset had N features\n",
    "num_features = 6\n",
    "\n",
    "# Generate random values for new data\n",
    "new_data = np.random.rand(1, num_features)  # Generating random data for one sample\n",
    "\n",
    "# You can also manually specify values for new data\n",
    "# new_data = [[value_1, value_2, ..., value_N]]\n",
    "\n",
    "print(\"New data:\")\n",
    "print(new_data)"
   ]
  },
  {
   "cell_type": "code",
   "execution_count": null,
   "id": "6598bab8-9499-491b-915c-342fefcde2ca",
   "metadata": {},
   "outputs": [],
   "source": []
  }
 ],
 "metadata": {
  "kernelspec": {
   "display_name": "Python 3 (ipykernel)",
   "language": "python",
   "name": "python3"
  },
  "language_info": {
   "codemirror_mode": {
    "name": "ipython",
    "version": 3
   },
   "file_extension": ".py",
   "mimetype": "text/x-python",
   "name": "python",
   "nbconvert_exporter": "python",
   "pygments_lexer": "ipython3",
   "version": "3.10.14"
  }
 },
 "nbformat": 4,
 "nbformat_minor": 5
}
